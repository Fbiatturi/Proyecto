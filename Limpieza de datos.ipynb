{
 "cells": [
  {
   "cell_type": "code",
   "execution_count": 10,
   "metadata": {},
   "outputs": [
    {
     "name": "stdout",
     "output_type": "stream",
     "text": [
      "Número de películas duplicadas antes de eliminar: 1\n",
      "Número de películas duplicadas después de eliminar: 0\n",
      "Limpieza completada. Archivo generado con solo un género, fecha sin paréntesis y sin las columnas especificadas.\n"
     ]
    }
   ],
   "source": [
    "import pandas as pd\n",
    "\n",
    "# Cargar el archivo movies_data_cleaned_single_sheet.xlsx\n",
    "movies_data_path = 'C:/Users/Felipe Biatturi/Desktop/Proyecto ciencia de datos/top_lifetime_gross_movies.xlsx'\n",
    "movies_data = pd.read_excel(movies_data_path, sheet_name=None)\n",
    "\n",
    "# Lista para almacenar los dataframes de cada hoja\n",
    "cleaned_dfs = []\n",
    "\n",
    "# Definir las columnas a eliminar\n",
    "columns_to_drop = [\"Domestic Distributor\", \"Release Date\", \"Number of Theaters\", \"Budget\"]\n",
    "\n",
    "# Procesar cada hoja en el archivo de Excel\n",
    "for sheet_name, df in movies_data.items():\n",
    "    # Eliminar las columnas especificadas, ignorando errores si no existen en la hoja\n",
    "    df_cleaned = df.drop(columns=columns_to_drop, errors='ignore')\n",
    "    \n",
    "    # Mantener solo el primer género en la columna \"Genres\"\n",
    "    df_cleaned['Genres'] = df_cleaned['Genres'].str.split('\\n').str[0].str.strip()\n",
    "    \n",
    "    # Mantener solo la fecha en \"Earliest Release Date\", eliminando el contenido en paréntesis\n",
    "    df_cleaned['Earliest Release Date'] = df_cleaned['Earliest Release Date'].str.split('(').str[0].str.strip()\n",
    "    \n",
    "    # Agregar el dataframe limpio a la lista\n",
    "    cleaned_dfs.append(df_cleaned)\n",
    "\n",
    "# Combinar todas las hojas en un solo DataFrame\n",
    "combined_df = pd.concat(cleaned_dfs)\n",
    "\n",
    "# Contar duplicados antes de eliminarlos\n",
    "duplicated_count = combined_df.duplicated(subset='Movie Title').sum()\n",
    "print(f\"Número de películas duplicadas antes de eliminar: {duplicated_count}\")\n",
    "\n",
    "# Eliminar duplicados basándose en \"Movie Title\"\n",
    "combined_df.drop_duplicates(subset='Movie Title', inplace=True)\n",
    "\n",
    "# Contar duplicados después de la eliminación\n",
    "duplicated_count_after = combined_df.duplicated(subset='Movie Title').sum()\n",
    "print(f\"Número de películas duplicadas después de eliminar: {duplicated_count_after}\")\n",
    "\n",
    "# Guardar el DataFrame combinado y limpio en un nuevo archivo Excel con una sola hoja\n",
    "output_path = 'C:/Users/Felipe Biatturi/Desktop/Proyecto ciencia de datos/top_lifetime_gross_cleaned.xlsx'\n",
    "combined_df.to_excel(output_path, sheet_name='Combined Movies', index=False)\n",
    "\n",
    "print(\"Limpieza completada. Archivo generado con solo un género, fecha sin paréntesis y sin las columnas especificadas.\")\n"
   ]
  },
  {
   "cell_type": "code",
   "execution_count": 1,
   "metadata": {},
   "outputs": [
    {
     "name": "stdout",
     "output_type": "stream",
     "text": [
      "Limpieza completada. Archivo generado como una sola hoja.\n"
     ]
    }
   ],
   "source": [
    "import pandas as pd\n",
    "\n",
    "# Cargar el archivo movies_data.xlsx\n",
    "movies_data_path = 'C:/Users/Felipe Biatturi/Desktop/Proyecto ciencia de datos/movies_data.xlsx'\n",
    "movies_data = pd.read_excel(movies_data_path, sheet_name=None)\n",
    "\n",
    "# Definir las columnas a eliminar\n",
    "columns_to_drop = [\"Domestic Distributor\", \"Release Date\", \"Number of Theaters\", \"Budget\"]\n",
    "\n",
    "# Lista para almacenar los dataframes de cada hoja\n",
    "cleaned_dfs = []\n",
    "\n",
    "# Limpiar las hojas de 'movies_data' y combinarlas en una lista\n",
    "for sheet_name, df in movies_data.items():\n",
    "    # Eliminar columnas no deseadas\n",
    "    df_cleaned = df.drop(columns=columns_to_drop, errors='ignore')\n",
    "    # Agregar el dataframe a la lista\n",
    "    cleaned_dfs.append(df_cleaned)\n",
    "\n",
    "# Combinar todas las hojas en un solo dataframe\n",
    "combined_df = pd.concat(cleaned_dfs)\n",
    "\n",
    "# Eliminar duplicados basándose en \"Movie Title\"\n",
    "combined_df.drop_duplicates(subset='Movie Title', inplace=True)\n",
    "\n",
    "# Guardar el dataframe combinado y limpio en un nuevo archivo Excel con una sola hoja\n",
    "output_path = 'C:/Users/Felipe Biatturi/Desktop/Proyecto ciencia de datos/movies_data_cleaned_single_sheet.xlsx'\n",
    "combined_df.to_excel(output_path, sheet_name='Combined Movies', index=False)\n",
    "\n",
    "print(\"Limpieza completada. Archivo generado como una sola hoja.\")"
   ]
  },
  {
   "cell_type": "code",
   "execution_count": 3,
   "metadata": {},
   "outputs": [
    {
     "name": "stdout",
     "output_type": "stream",
     "text": [
      "Número de películas duplicadas antes de eliminar: 0\n",
      "Número de películas duplicadas después de eliminar: 0\n",
      "Limpieza completada. Archivo generado con solo un género, fecha sin paréntesis y sin las columnas especificadas.\n"
     ]
    }
   ],
   "source": [
    "import pandas as pd\n",
    "\n",
    "# Cargar el archivo movies_data_cleaned_single_sheet.xlsx\n",
    "movies_data_path = 'C:/Users/Felipe Biatturi/Desktop/Proyecto ciencia de datos/movies_data_cleaned_single_sheet.xlsx'\n",
    "movies_data = pd.read_excel(movies_data_path, sheet_name=None)\n",
    "\n",
    "# Lista para almacenar los dataframes de cada hoja\n",
    "cleaned_dfs = []\n",
    "\n",
    "# Definir las columnas a eliminar\n",
    "columns_to_drop = [\"Domestic Distributor\", \"Release Date\", \"Number of Theaters\", \"Budget\"]\n",
    "\n",
    "# Procesar cada hoja en el archivo de Excel\n",
    "for sheet_name, df in movies_data.items():\n",
    "    # Eliminar las columnas especificadas, ignorando errores si no existen en la hoja\n",
    "    df_cleaned = df.drop(columns=columns_to_drop, errors='ignore')\n",
    "    \n",
    "    # Mantener solo el primer género en la columna \"Genres\"\n",
    "    df_cleaned['Genres'] = df_cleaned['Genres'].str.split('\\n').str[0].str.strip()\n",
    "    \n",
    "    # Mantener solo la fecha en \"Earliest Release Date\", eliminando el contenido en paréntesis\n",
    "    df_cleaned['Earliest Release Date'] = df_cleaned['Earliest Release Date'].str.split('(').str[0].str.strip()\n",
    "    \n",
    "    # Agregar el dataframe limpio a la lista\n",
    "    cleaned_dfs.append(df_cleaned)\n",
    "\n",
    "# Combinar todas las hojas en un solo DataFrame\n",
    "combined_df = pd.concat(cleaned_dfs)\n",
    "\n",
    "# Contar duplicados antes de eliminarlos\n",
    "duplicated_count = combined_df.duplicated(subset='Movie Title').sum()\n",
    "print(f\"Número de películas duplicadas antes de eliminar: {duplicated_count}\")\n",
    "\n",
    "# Eliminar duplicados basándose en \"Movie Title\"\n",
    "combined_df.drop_duplicates(subset='Movie Title', inplace=True)\n",
    "\n",
    "# Contar duplicados después de la eliminación\n",
    "duplicated_count_after = combined_df.duplicated(subset='Movie Title').sum()\n",
    "print(f\"Número de películas duplicadas después de eliminar: {duplicated_count_after}\")\n",
    "\n",
    "# Guardar el DataFrame combinado y limpio en un nuevo archivo Excel con una sola hoja\n",
    "output_path = 'C:/Users/Felipe Biatturi/Desktop/Proyecto ciencia de datos/movies_data_cleaned_single_sheet_cleaned.xlsx'\n",
    "combined_df.to_excel(output_path, sheet_name='Combined Movies', index=False)\n",
    "\n",
    "print(\"Limpieza completada. Archivo generado con solo un género, fecha sin paréntesis y sin las columnas especificadas.\")"
   ]
  }
 ],
 "metadata": {
  "kernelspec": {
   "display_name": "Python 3",
   "language": "python",
   "name": "python3"
  },
  "language_info": {
   "codemirror_mode": {
    "name": "ipython",
    "version": 3
   },
   "file_extension": ".py",
   "mimetype": "text/x-python",
   "name": "python",
   "nbconvert_exporter": "python",
   "pygments_lexer": "ipython3",
   "version": "3.11.5"
  }
 },
 "nbformat": 4,
 "nbformat_minor": 2
}
